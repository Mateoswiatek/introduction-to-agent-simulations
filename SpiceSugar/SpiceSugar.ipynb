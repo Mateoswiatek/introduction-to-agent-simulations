{
 "cells": [
  {
   "metadata": {},
   "cell_type": "markdown",
   "source": [
    "Prosta symulacja. \n",
    "Jest mapka 50x50\n",
    "Dajemy w różnych miejscach różne złoża jako agenty - bo się zmieniają."
   ],
   "id": "fb54fed38a7b85b3"
  },
  {
   "metadata": {
    "ExecuteTime": {
     "end_time": "2024-06-16T15:43:23.354543Z",
     "start_time": "2024-06-16T15:43:23.344544Z"
    }
   },
   "cell_type": "code",
   "source": [
    "from random import random\n",
    "\n",
    "from mesa import Agent\n",
    "from mesa import Model\n",
    "import numpy as np\n",
    "from mesa.space import MultiGrid\n",
    "from mesa.time import RandomActivationByType"
   ],
   "id": "initial_id",
   "outputs": [],
   "execution_count": 32
  },
  {
   "metadata": {},
   "cell_type": "markdown",
   "source": "Agents",
   "id": "76c3e757755cf01e"
  },
  {
   "metadata": {
    "ExecuteTime": {
     "end_time": "2024-06-16T17:34:00.535900Z",
     "start_time": "2024-06-16T17:34:00.519704Z"
    }
   },
   "cell_type": "code",
   "source": [
    "import MyModel\n",
    "\n",
    "\n",
    "class Spice(Agent):\n",
    "    \"\"\"\n",
    "    Spice:\n",
    "    - contains an amount of spice\n",
    "    - grows 1 amount of spice at each turn\n",
    "    - max_sugar - the maximum amount of sugar\n",
    "    \"\"\"\n",
    "\n",
    "    def __init__(self, unique_id, model, pos, max_spice):\n",
    "        super().__init__(unique_id, model)\n",
    "        self.pos = pos\n",
    "        self.amount = max_spice\n",
    "        self.max_sugar = max_spice\n",
    "        \n",
    "    def step(self):\n",
    "        \"\"\"\n",
    "        Spice grow function, adds one unit of spice at each step until\n",
    "        max amount\n",
    "        \"\"\"\n",
    "        self.amount = min([self.max_sugar, self.amount+1])\n",
    "\n",
    "\n",
    "class Sugar(Agent):\n",
    "    \"\"\"\n",
    "    Sugar agent:\n",
    "    - contains an amount of sugar\n",
    "    - grows 1 amount of sugar at each turn\n",
    "    \"\"\"\n",
    "\n",
    "    def __init__(self, unique_id, model, pos, max_sugar):\n",
    "        super().__init__(unique_id, model)\n",
    "        self.pos = pos\n",
    "        self.amount = max_sugar\n",
    "        self.max_sugar = max_sugar\n",
    "    \n",
    "    def step(self):\n",
    "        \"\"\"\n",
    "        Sugar grow function, adds one unit of sugar at each step until\n",
    "        max amount\n",
    "        \"\"\"\n",
    "        self.amount = min([self.max_sugar, self.amount+1])\n",
    "\n",
    "\n",
    "class Trader(Agent):\n",
    "    \"\"\"\n",
    "    Trader agent:\n",
    "    - has a metabolism for sugar and spice\n",
    "    - harvest and traders sugar and spice to survive and thrive\n",
    "    \"\"\"\n",
    "\n",
    "    def __init__(self, unique_id, model: MyModel, pos, moore=False, sugar=0, spice=0, metabolism_sugar=0, metabolism_spice=0, vision=1):\n",
    "        super().__init__(unique_id, model)\n",
    "        self.moore = moore\n",
    "        self.pos = pos\n",
    "        self.sugar = sugar\n",
    "        self.spice = spice\n",
    "        self.metabolism_sugar = metabolism_sugar\n",
    "        self.metabolism_spice = metabolism_spice\n",
    "        self.vision = vision\n",
    "        self.isAlive = True\n",
    "        \n",
    "    \n",
    "    def step(self):\n",
    "        \n",
    "        pass\n",
    "    \n",
    "    def is_occupied_by_other_trader(self, pos):\n",
    "        \"\"\"\n",
    "        helper function of self.move()\n",
    "        \"\"\"\n",
    "        \n",
    "        if pos == self.pos:\n",
    "            return False\n",
    "        \n",
    "        #contents of each cell in neighborhood\n",
    "        this_cell = model.grid.get_cell_list_contents(pos)\n",
    "        for a in this_cell:\n",
    "            if isinstance(a, Trader):\n",
    "                return True\n",
    "        return False\n",
    "        \n",
    "    \n",
    "    def move(self):\n",
    "        \"\"\"\n",
    "        Function for trader agent to identify optimal move for each step in 4 parts\n",
    "        1 - Identify all possible moves\n",
    "        2 - Determine which move maximize welfare\n",
    "        3 - find closes best optiom\n",
    "        4 - move \n",
    "        \"\"\"\n",
    "        neighbours = [i for i in model.grid.get_neighborhood(self.pos, self.moore, True, self.vision) if not self.is_occupied_by_other_trader(i)]\n",
    "        \n",
    "\n"
   ],
   "id": "376ab6454157344e",
   "outputs": [],
   "execution_count": 104
  },
  {
   "metadata": {},
   "cell_type": "markdown",
   "source": "Model",
   "id": "f0e3943f917dd15"
  },
  {
   "metadata": {
    "ExecuteTime": {
     "end_time": "2024-06-16T17:05:16.551405Z",
     "start_time": "2024-06-16T17:05:16.539173Z"
    }
   },
   "cell_type": "code",
   "source": [
    "import mesa\n",
    "from mesa.time import RandomActivation\n",
    "\n",
    "\n",
    "class MyModel(Model):\n",
    "    \"\"\"\n",
    "    A model class to manage Sugarspace with Traders\n",
    "    \"\"\"\n",
    "    def __init__(self, width=50, height=50,\n",
    "                 init_population=200,\n",
    "                 endowment_min=25,\n",
    "                 endowment_max=50,\n",
    "                 metabolism_min=1,\n",
    "                 metabolism_max=5,\n",
    "                 vision_min=1,\n",
    "                 vision_max=5):\n",
    "        super().__init__()\n",
    "        print(\"Its a model\")\n",
    "        self.width = width\n",
    "        self.height = height\n",
    "        self.init_population = init_population\n",
    "        self.endowment_min = endowment_min\n",
    "        self.endowment_max = endowment_max\n",
    "        self.metabolism_min = metabolism_min\n",
    "        self.metabolism_max = metabolism_max\n",
    "        self.vision_min = vision_min\n",
    "        self.vision_max = vision_max        \n",
    "        \n",
    "        self.grid = MultiGrid(width, height, torus=False)\n",
    "        self.schedule = mesa.time.RandomActivationByType(self)\n",
    "        # self.schedule = RandomActivation(self)\n",
    "\n",
    "        sugar_distribution = np.genfromtxt('sugar-map.txt')\n",
    "        spice_distribution = np.flip(sugar_distribution, axis=1)    \n",
    "        # plt.imshow(sugar_distribution, origin='lower')\n",
    "        # plt.imshow(spice_distribution, origin='lower')\n",
    "    \n",
    "        for _, (x,y) in self.grid.coord_iter():\n",
    "            max_sugar = sugar_distribution[x, y]\n",
    "            max_spice = spice_distribution[x, y]\n",
    "            \n",
    "            if max_sugar > 0:\n",
    "                sugar = Sugar(self.next_id(), self, (x,y), max_sugar)\n",
    "                # self.grid.place_agent(sugar, (x,y))\n",
    "                self.schedule.add(sugar)\n",
    "            if max_spice > 0:\n",
    "                spice = Sugar(self.next_id(), self, (x,y), max_spice)\n",
    "                # self.grid.place_agent(spice, (x,y))\n",
    "                self.schedule.add(spice)\n",
    "                \n",
    "        for i in range(self.init_population):\n",
    "            x = self.random.randint(0, self.width-1)\n",
    "            y = self.random.randint(0, self.width-1)\n",
    "            sugar = int(self.random.uniform(self.endowment_min, self.endowment_max+1))\n",
    "            spice = int(self.random.uniform(self.endowment_min, self.endowment_max+1))\n",
    "            metabolism_sugar: int = int(self.random.uniform(self.metabolism_min, self.metabolism_max+1))\n",
    "            metabolism_spice  = int(self.random.uniform(self.metabolism_min, self.metabolism_max+1))\n",
    "            vision = int(self.random.uniform(self.vision_min, self.vision_max+1))\n",
    "            \n",
    "            trader = Trader(self.next_id(),\n",
    "                            self,\n",
    "                            pos = (x,y),\n",
    "                            moore = False,\n",
    "                            sugar=sugar,\n",
    "                            spice=spice,\n",
    "                            metabolism_sugar=metabolism_sugar,\n",
    "                            metabolism_spice=metabolism_spice,\n",
    "                            vision=vision)\n",
    "            self.schedule.add(trader)\n",
    "        \n",
    "            # print(trader.unique_id, trader.pos, trader.sugar, trader.spice, trader.metabolism_sugar, trader.metabolism_spice, trader.vision)\n",
    "    \n",
    "    def step(self):\n",
    "        \"\"\"\n",
    "        Unique step function that does staged activation of sugar and spice\n",
    "        and then randomly activates traders\n",
    "        \"\"\"\n",
    "        \n",
    "        for sugar in self.schedule.agents_by_type[Sugar].values():\n",
    "            sugar.step()\n",
    "        for spice in self.schedule.agents_by_type[Spice].values():\n",
    "            spice.step()\n",
    "        \n",
    "        #Steo trader agents to account for agent death and removal we need a separate data to iterate.\n",
    "        traders_shuffle = list(self.schedule.agents_by_type[Trader].values())\n",
    "        self.random.shuffle(traders_shuffle)\n",
    "        for agent in traders_shuffle:\n",
    "            agent.move()\n",
    "        \n",
    "        \n",
    "        self.schedule.steps += 1\n",
    "        \n",
    "        \n",
    "        # automatycznie\n",
    "        # self.schedule.step()\n",
    "        \n",
    "    def run_model(self, step_count=1000):\n",
    "\n",
    "        for i in range(step_count):\n",
    "            self.step()\n"
   ],
   "id": "697366d3d5628ec",
   "outputs": [],
   "execution_count": 102
  },
  {
   "metadata": {
    "ExecuteTime": {
     "end_time": "2024-06-16T16:52:06.696503Z",
     "start_time": "2024-06-16T16:52:06.590971Z"
    }
   },
   "cell_type": "code",
   "source": "model = MyModel()",
   "id": "c7dee858fad62648",
   "outputs": [
    {
     "name": "stdout",
     "output_type": "stream",
     "text": [
      "Its a model\n"
     ]
    }
   ],
   "execution_count": 100
  },
  {
   "metadata": {
    "ExecuteTime": {
     "end_time": "2024-06-16T16:52:07.476876Z",
     "start_time": "2024-06-16T16:52:07.454556Z"
    }
   },
   "cell_type": "code",
   "source": "model.run_model(step_count=5)",
   "id": "6989fafd5f0ffa0a",
   "outputs": [
    {
     "name": "stdout",
     "output_type": "stream",
     "text": [
      "1 0\n",
      "2 0\n",
      "3 0\n",
      "4 0\n",
      "5 0\n"
     ]
    },
    {
     "name": "stderr",
     "output_type": "stream",
     "text": [
      "C:\\Users\\Mati\\AppData\\Local\\Temp\\ipykernel_6972\\2181013748.py:79: DeprecationWarning: Because of the shift to using AgentSet, in the future this attribute will return a dict withtype as key as AgentSet as value. Future behavior is available via RandomActivationByType._agents_by_type\n",
      "  for sugar in self.schedule.agents_by_type[Sugar].values():\n",
      "C:\\Users\\Mati\\AppData\\Local\\Temp\\ipykernel_6972\\2181013748.py:81: DeprecationWarning: Because of the shift to using AgentSet, in the future this attribute will return a dict withtype as key as AgentSet as value. Future behavior is available via RandomActivationByType._agents_by_type\n",
      "  for spice in self.schedule.agents_by_type[Spice].values():\n",
      "C:\\Users\\Mati\\AppData\\Local\\Temp\\ipykernel_6972\\2181013748.py:85: DeprecationWarning: Because of the shift to using AgentSet, in the future this attribute will return a dict withtype as key as AgentSet as value. Future behavior is available via RandomActivationByType._agents_by_type\n",
      "  for trader in self.schedule.agents_by_type[Trader].values():\n"
     ]
    }
   ],
   "execution_count": 101
  },
  {
   "metadata": {},
   "cell_type": "code",
   "outputs": [],
   "execution_count": null,
   "source": "",
   "id": "5de91a149010d521"
  }
 ],
 "metadata": {
  "kernelspec": {
   "display_name": "Python 3",
   "language": "python",
   "name": "python3"
  },
  "language_info": {
   "codemirror_mode": {
    "name": "ipython",
    "version": 2
   },
   "file_extension": ".py",
   "mimetype": "text/x-python",
   "name": "python",
   "nbconvert_exporter": "python",
   "pygments_lexer": "ipython2",
   "version": "2.7.6"
  }
 },
 "nbformat": 4,
 "nbformat_minor": 5
}
