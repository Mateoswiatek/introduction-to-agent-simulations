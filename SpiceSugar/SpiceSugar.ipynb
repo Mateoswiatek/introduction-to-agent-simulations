{
 "cells": [
  {
   "cell_type": "code",
   "id": "initial_id",
   "metadata": {
    "collapsed": true,
    "ExecuteTime": {
     "end_time": "2024-06-16T15:04:13.465262Z",
     "start_time": "2024-06-16T15:04:12.765870Z"
    }
   },
   "source": [
    "from mesa import Agent\n",
    "from mesa import Model\n",
    "import numpy as np\n",
    "from matplotlib import pyplot as plt\n",
    "from mesa.space import MultiGrid"
   ],
   "outputs": [],
   "execution_count": 1
  },
  {
   "metadata": {},
   "cell_type": "markdown",
   "source": "Agents",
   "id": "76c3e757755cf01e"
  },
  {
   "metadata": {
    "ExecuteTime": {
     "end_time": "2024-06-16T15:04:41.776203Z",
     "start_time": "2024-06-16T15:04:41.758459Z"
    }
   },
   "cell_type": "code",
   "source": [
    "class Spice(Agent):\n",
    "    \"\"\"\n",
    "    Spice:\n",
    "    - contains an amount of spice\n",
    "    - grows 1 amount of spice at each turn\n",
    "    \"\"\"\n",
    "\n",
    "    def __init__(self):\n",
    "        print(\"I'm a Spice agent\")\n",
    "\n",
    "\n",
    "class Sugar(Agent):\n",
    "    \"\"\"\n",
    "    Sugar agent:\n",
    "    - contains an amount of sugar\n",
    "    - grows 1 amount of sugar at each turn\n",
    "    \"\"\"\n",
    "\n",
    "    def __init__(self):\n",
    "        print(\"I'm a Sugar agent\")\n",
    "\n",
    "\n",
    "class Trader(Agent):\n",
    "    \"\"\"\n",
    "    Trader agent:\n",
    "    - has a metabolism for sugar and spice\n",
    "    - harvest and traders sugar and spice to survive and thrive\n",
    "    \"\"\"\n",
    "\n",
    "    def __init__(self):\n",
    "        print(\"I'm a Trader\")"
   ],
   "id": "376ab6454157344e",
   "outputs": [],
   "execution_count": 2
  },
  {
   "metadata": {},
   "cell_type": "markdown",
   "source": "Model",
   "id": "f0e3943f917dd15"
  },
  {
   "metadata": {
    "ExecuteTime": {
     "end_time": "2024-06-16T15:06:54.572580Z",
     "start_time": "2024-06-16T15:06:54.555410Z"
    }
   },
   "cell_type": "code",
   "source": [
    "class MyModel(Model):\n",
    "    \"\"\"\n",
    "    A model class to manage Sugarspace with Traders\n",
    "    \"\"\"\n",
    "    def __init__(self, width=50, height=50):\n",
    "        super().__init__()\n",
    "        print(\"Its a model\")\n",
    "        self.width = width\n",
    "        self.height = height\n",
    "        self.grid = MultiGrid(width, height, torus=False)\n",
    "\n",
    "        sugar_distribution = np.genfromtxt('sugar-map.txt')\n",
    "        spice_distribution = np.flip(sugar_distribution, axis=1)\n",
    "        print(sugar_distribution.shape)\n",
    "        plt.imshow(sugar_distribution, origin='lower')\n",
    "        # plt.imshow(spice_distribution, origin='lower')\n",
    "\n",
    "        self.sugar = Sugar()\n",
    "        self.spice = Spice()\n",
    "        self.trader = Trader()"
   ],
   "id": "697366d3d5628ec",
   "outputs": [],
   "execution_count": 13
  },
  {
   "metadata": {
    "ExecuteTime": {
     "end_time": "2024-06-16T15:06:55.293021Z",
     "start_time": "2024-06-16T15:06:55.179189Z"
    }
   },
   "cell_type": "code",
   "source": "model = MyModel()",
   "id": "c7dee858fad62648",
   "outputs": [
    {
     "name": "stdout",
     "output_type": "stream",
     "text": [
      "Its a model\n",
      "(50, 50)\n",
      "I'm a Sugar agent\n",
      "I'm a Spice agent\n",
      "I'm a Trader\n"
     ]
    },
    {
     "data": {
      "text/plain": [
       "<Figure size 640x480 with 1 Axes>"
      ],
      "image/png": "[encoded data removed]"
     },
     "metadata": {},
     "output_type": "display_data"
    }
   ],
   "execution_count": 14
  }
 ],
 "metadata": {
  "kernelspec": {
   "display_name": "Python 3",
   "language": "python",
   "name": "python3"
  },
  "language_info": {
   "codemirror_mode": {
    "name": "ipython",
    "version": 2
   },
   "file_extension": ".py",
   "mimetype": "text/x-python",
   "name": "python",
   "nbconvert_exporter": "python",
   "pygments_lexer": "ipython2",
   "version": "2.7.6"
  }
 },
 "nbformat": 4,
 "nbformat_minor": 5
}
